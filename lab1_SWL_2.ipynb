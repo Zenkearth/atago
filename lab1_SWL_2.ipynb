{
  "nbformat": 4,
  "nbformat_minor": 0,
  "metadata": {
    "colab": {
      "provenance": []
    },
    "kernelspec": {
      "name": "python3",
      "display_name": "Python 3"
    },
    "language_info": {
      "name": "python"
    }
  },
  "cells": [
    {
      "cell_type": "markdown",
      "source": [
        "# Variables, expressions, and statements"
      ],
      "metadata": {
        "id": "G5wHLurt2O28"
      }
    },
    {
      "cell_type": "markdown",
      "source": [
        "How to show value in python"
      ],
      "metadata": {
        "id": "eo7rnpEzto9I"
      }
    },
    {
      "cell_type": "code",
      "source": [
        "print(\"Hello, World!\")\n",
        "print(\"mocha\", \"latte\", \"espresso\")\n",
        "print(\"one\", \"two\", \"three\", sep=\">\")\n",
        "print(\"area = \", 5 * 10, \"sq.m.\")\n",
        "print(\"coconut\", \"mango\", sep=\" \", end=\"\")\n",
        "print(\"POMELO\")\n",
        "print(\"watermelon\")"
      ],
      "metadata": {
        "id": "s2BYg4qNtwz1"
      },
      "execution_count": null,
      "outputs": []
    },
    {
      "cell_type": "markdown",
      "source": [],
      "metadata": {
        "id": "GodmWsM1uBS9"
      }
    },
    {
      "cell_type": "code",
      "source": [
        "print(4)"
      ],
      "metadata": {
        "id": "fyY69ZZv2Y0c",
        "colab": {
          "base_uri": "https://localhost:8080/"
        },
        "outputId": "e61191bc-a23c-4d27-dcdb-f92f00890fb2"
      },
      "execution_count": 9,
      "outputs": [
        {
          "output_type": "stream",
          "name": "stdout",
          "text": [
            "4\n"
          ]
        }
      ]
    },
    {
      "cell_type": "code",
      "source": [
        "type('Hello, World!')"
      ],
      "metadata": {
        "id": "OIvSn7IL2cps"
      },
      "execution_count": null,
      "outputs": []
    },
    {
      "cell_type": "code",
      "source": [
        "print(1,000,000)"
      ],
      "metadata": {
        "id": "SgwaB8rv2iPw"
      },
      "execution_count": null,
      "outputs": []
    },
    {
      "cell_type": "markdown",
      "source": [
        "# Variables"
      ],
      "metadata": {
        "id": "_zwgU1612s8I"
      }
    },
    {
      "cell_type": "markdown",
      "source": [
        "The underscore character ( _ ) can appear in a name. It is often used in names with multiple words, such as my_name or airspeed_of_unladen_swallow"
      ],
      "metadata": {
        "id": "KpJdG17X2wAw"
      }
    },
    {
      "cell_type": "code",
      "source": [
        "76trombones = 'big parade'"
      ],
      "metadata": {
        "id": "EgPvWEeQ29Qh"
      },
      "execution_count": null,
      "outputs": []
    },
    {
      "cell_type": "code",
      "source": [
        "more@ = 1000000"
      ],
      "metadata": {
        "id": "S1_wtizq3BLf"
      },
      "execution_count": null,
      "outputs": []
    },
    {
      "cell_type": "code",
      "source": [
        "class = 'Advanced Theoretical Zymurgy'"
      ],
      "metadata": {
        "id": "T8zyGygo3EUR",
        "colab": {
          "base_uri": "https://localhost:8080/",
          "height": 106
        },
        "outputId": "b7d92f89-6bfb-4210-e327-e771e43ce6cb"
      },
      "execution_count": 1,
      "outputs": [
        {
          "output_type": "error",
          "ename": "SyntaxError",
          "evalue": "invalid syntax (<ipython-input-1-73fc4ce1a15a>, line 1)",
          "traceback": [
            "\u001b[0;36m  File \u001b[0;32m\"<ipython-input-1-73fc4ce1a15a>\"\u001b[0;36m, line \u001b[0;32m1\u001b[0m\n\u001b[0;31m    class = 'Advanced Theoretical Zymurgy'\u001b[0m\n\u001b[0m          ^\u001b[0m\n\u001b[0;31mSyntaxError\u001b[0m\u001b[0;31m:\u001b[0m invalid syntax\n"
          ]
        }
      ]
    },
    {
      "cell_type": "markdown",
      "source": [
        "# expression"
      ],
      "metadata": {
        "id": "1_6dZqsJ2YiB"
      }
    },
    {
      "cell_type": "code",
      "source": [
        "#fix this fragment of code\n",
        "\n",
        "hour = 20+32\n",
        "minute = hour-1\n",
        "shiftToMinute = hour*60+minute\n",
        "hour = minute/60\n",
        "something = 5**2*(5+9)*(15-7)"
      ],
      "metadata": {
        "id": "CD0otEhw6EsO"
      },
      "execution_count": 4,
      "outputs": []
    },
    {
      "cell_type": "code",
      "source": [
        "#Complete the statement that can convert from celsius to fahrenheit .\n",
        "celsius = 25\n",
        "\n",
        "fahrenheit = celsius * 9 / 5 + 32\n",
        "\n",
        "print(f'{celsius:3}C = {fahrenheit:5.1f}F')"
      ],
      "metadata": {
        "id": "g_7GYUO4uHVb",
        "colab": {
          "base_uri": "https://localhost:8080/"
        },
        "outputId": "16edb2e4-35fe-45cd-8ea8-b37a8a523764"
      },
      "execution_count": 6,
      "outputs": [
        {
          "output_type": "stream",
          "name": "stdout",
          "text": [
            " 25C =  77.0F\n"
          ]
        }
      ]
    },
    {
      "cell_type": "markdown",
      "source": [
        "# Modulus operator"
      ],
      "metadata": {
        "id": "1jZXTCoB6eQ1"
      }
    },
    {
      "cell_type": "code",
      "source": [
        "quotient = 7 // 3\n",
        "print(quotient)"
      ],
      "metadata": {
        "id": "jZ3M3Q5W6deN",
        "colab": {
          "base_uri": "https://localhost:8080/"
        },
        "outputId": "9d3e0b2a-f2f9-4f4c-ad7d-16c51fe324e7"
      },
      "execution_count": 7,
      "outputs": [
        {
          "output_type": "stream",
          "name": "stdout",
          "text": [
            "2\n"
          ]
        }
      ]
    },
    {
      "cell_type": "code",
      "source": [
        "remainder = 7 % 3\n",
        "print(remainder)"
      ],
      "metadata": {
        "id": "nLecqE3M6P7z",
        "colab": {
          "base_uri": "https://localhost:8080/"
        },
        "outputId": "37caf8c1-d345-41c7-f4ea-3020b162d5c4"
      },
      "execution_count": 8,
      "outputs": [
        {
          "output_type": "stream",
          "name": "stdout",
          "text": [
            "1\n"
          ]
        }
      ]
    },
    {
      "cell_type": "markdown",
      "source": [
        "# String operations"
      ],
      "metadata": {
        "id": "33LrssB-6tKW"
      }
    },
    {
      "cell_type": "code",
      "source": [
        "first = 10\n",
        "second = 15\n",
        "print(first+second)\n",
        "first = '100'\n",
        "second = '150'\n",
        "print(first + second)"
      ],
      "metadata": {
        "id": "FujpDGlC6xW4",
        "colab": {
          "base_uri": "https://localhost:8080/"
        },
        "outputId": "d2415a68-a31a-4f84-8fc0-192aa8a46083"
      },
      "execution_count": 10,
      "outputs": [
        {
          "output_type": "stream",
          "name": "stdout",
          "text": [
            "25\n",
            "100150\n"
          ]
        }
      ]
    },
    {
      "cell_type": "code",
      "source": [
        "first = 'Test '\n",
        "second = 3\n",
        "print(first * second)"
      ],
      "metadata": {
        "id": "9MH3pzMp7Any",
        "colab": {
          "base_uri": "https://localhost:8080/"
        },
        "outputId": "3a71db40-ba42-4f59-aa8f-e11cfbf3a9e9"
      },
      "execution_count": 11,
      "outputs": [
        {
          "output_type": "stream",
          "name": "stdout",
          "text": [
            "Test Test Test \n"
          ]
        }
      ]
    },
    {
      "cell_type": "markdown",
      "source": [
        "# Asking the user for input"
      ],
      "metadata": {
        "id": "EpXeLCJv6xJq"
      }
    },
    {
      "cell_type": "code",
      "source": [
        "inp = input()\n",
        "print(inp)"
      ],
      "metadata": {
        "id": "eUZ6nLko7dwU",
        "colab": {
          "base_uri": "https://localhost:8080/"
        },
        "outputId": "4fa3aee3-4e96-4203-ade9-5885cd932d87"
      },
      "execution_count": 12,
      "outputs": [
        {
          "output_type": "stream",
          "name": "stdout",
          "text": [
            "5\n",
            "5\n"
          ]
        }
      ]
    },
    {
      "cell_type": "code",
      "source": [
        "name = input('What is your name?\\n')\n",
        "print(name)"
      ],
      "metadata": {
        "id": "KsMQTo647i8m",
        "colab": {
          "base_uri": "https://localhost:8080/"
        },
        "outputId": "48869a57-fc98-4763-cb3c-fe5f3c8c1798"
      },
      "execution_count": 13,
      "outputs": [
        {
          "output_type": "stream",
          "name": "stdout",
          "text": [
            "What is your name?\n",
            "15\n",
            "15\n"
          ]
        }
      ]
    },
    {
      "cell_type": "code",
      "source": [
        "prompt = 'What...is the airspeed velocity of an unladen swallow?\\n'\n",
        "speed = input(prompt)\n",
        "int(speed)\n",
        "int(speed) + 5"
      ],
      "metadata": {
        "id": "q10YcPyD7nZg",
        "colab": {
          "base_uri": "https://localhost:8080/"
        },
        "outputId": "0ef7aab1-1d4a-4946-f35b-bd21e11c55ed"
      },
      "execution_count": 14,
      "outputs": [
        {
          "name": "stdout",
          "output_type": "stream",
          "text": [
            "What...is the airspeed velocity of an unladen swallow?\n",
            "4\n"
          ]
        },
        {
          "output_type": "execute_result",
          "data": {
            "text/plain": [
              "9"
            ]
          },
          "metadata": {},
          "execution_count": 14
        }
      ]
    },
    {
      "cell_type": "code",
      "source": [
        "a = input().strip()"
      ],
      "metadata": {
        "id": "DvPo1Eur9JpM",
        "colab": {
          "base_uri": "https://localhost:8080/"
        },
        "outputId": "3312940e-a354-4e43-ee43-9a9f806d7d7d"
      },
      "execution_count": 15,
      "outputs": [
        {
          "name": "stdout",
          "output_type": "stream",
          "text": [
            "4\n"
          ]
        }
      ]
    },
    {
      "cell_type": "code",
      "source": [
        "a = 3.5\n",
        "print(f\"a = {a}, type = {type(a)}\")\n",
        "b = int(a)\n",
        "print(f\"b = {b}, type = {type(b)}\")"
      ],
      "metadata": {
        "id": "Ln6Binw8vX9l",
        "colab": {
          "base_uri": "https://localhost:8080/"
        },
        "outputId": "2127c895-4199-428a-b4bf-46439e944125"
      },
      "execution_count": 16,
      "outputs": [
        {
          "output_type": "stream",
          "name": "stdout",
          "text": [
            "a = 3.5, type = <class 'float'>\n",
            "b = 3, type = <class 'int'>\n"
          ]
        }
      ]
    },
    {
      "cell_type": "code",
      "source": [
        "s = \"3\"\n",
        "print(f\"s  = {s}, type = {type(s)}\")\n",
        "a = int(s)\n",
        "print(f\"a  = {a}, type = {type(a)}\")\n",
        "\n",
        "s2 = \"-7\"\n",
        "print(f\"s2 = {s2}, type = {type(s2)}\")\n",
        "b = int(s2)\n",
        "print(f\"b  = {b}, type = {type(b)}\")\n",
        "\n",
        "## How to be `float()`\n",
        "a = float(\"3\")\n",
        "print(f\"a = {a}, type = {type(a)}\")\n",
        "\n",
        "b = float(\"3.14159\")\n",
        "print(f\"b = {b}, type = {type(b)}\")\n",
        "\n",
        "c = float(\"-17.5\")\n",
        "print(f\"c = {c}, type = {type(c)}\")"
      ],
      "metadata": {
        "id": "8Mq27-cqvbJ9",
        "colab": {
          "base_uri": "https://localhost:8080/"
        },
        "outputId": "9aa31d10-8469-4038-fae0-16a163049075"
      },
      "execution_count": 17,
      "outputs": [
        {
          "output_type": "stream",
          "name": "stdout",
          "text": [
            "s  = 3, type = <class 'str'>\n",
            "a  = 3, type = <class 'int'>\n",
            "s2 = -7, type = <class 'str'>\n",
            "b  = -7, type = <class 'int'>\n",
            "a = 3.0, type = <class 'float'>\n",
            "b = 3.14159, type = <class 'float'>\n",
            "c = -17.5, type = <class 'float'>\n"
          ]
        }
      ]
    },
    {
      "cell_type": "code",
      "source": [
        "a = str(3)\n",
        "print(f\"a = {a}, type = {type(a)}\")\n",
        "print(f\"a * 5 = {a * 5}\")\n",
        "\n",
        "b = str(3.14159)\n",
        "print(f\"b = {b}, type = {type(b)}\")\n",
        "print(f\"1 + b = {'7' + b}\")\n",
        "\n",
        "c = str(-17)\n",
        "print(f\"c = {c}, type = {type(c)}\")\n",
        "print(f\"1 + c = {'1' + c}\")"
      ],
      "metadata": {
        "id": "eFh06Sn6veAA"
      },
      "execution_count": null,
      "outputs": []
    },
    {
      "cell_type": "code",
      "source": [
        "a = int(input())"
      ],
      "metadata": {
        "id": "U0_IXrcu9LE2"
      },
      "execution_count": null,
      "outputs": []
    },
    {
      "cell_type": "code",
      "source": [
        "a = float(input())"
      ],
      "metadata": {
        "id": "sjd3uAN_9PPR"
      },
      "execution_count": null,
      "outputs": []
    },
    {
      "cell_type": "code",
      "source": [
        "a,b,c = [e for e in input().split()]"
      ],
      "metadata": {
        "id": "bMo9ViSu9Umo"
      },
      "execution_count": null,
      "outputs": []
    },
    {
      "cell_type": "code",
      "source": [
        "a,b,c = input().split()"
      ],
      "metadata": {
        "id": "pLRylGPg9WO4"
      },
      "execution_count": null,
      "outputs": []
    },
    {
      "cell_type": "code",
      "source": [
        "x,y = [int(e) for e in input().split()]"
      ],
      "metadata": {
        "id": "DnyTN0rm9Xy9"
      },
      "execution_count": null,
      "outputs": []
    },
    {
      "cell_type": "code",
      "source": [
        "a,b,c = [float(e) for e in input().split()]"
      ],
      "metadata": {
        "id": "lK9vynvf9ZpM"
      },
      "execution_count": null,
      "outputs": []
    },
    {
      "cell_type": "markdown",
      "source": [
        "# Comments"
      ],
      "metadata": {
        "id": "brHjDfc92Uzc"
      }
    },
    {
      "cell_type": "code",
      "source": [
        "# compute the percentage of the hour that has elapsed\n",
        "percentage = (minute * 100) / 60"
      ],
      "metadata": {
        "id": "0MaHTthw8Dij"
      },
      "execution_count": null,
      "outputs": []
    },
    {
      "cell_type": "code",
      "source": [
        "percentage = (minute * 100) / 60 # percentage of an hour"
      ],
      "metadata": {
        "id": "hkAJ4deZ8Fmc"
      },
      "execution_count": null,
      "outputs": []
    },
    {
      "cell_type": "markdown",
      "source": [
        "This comment is redundant with the code and useless:"
      ],
      "metadata": {
        "id": "b_uz7WYw8Pzw"
      }
    },
    {
      "cell_type": "code",
      "source": [
        "v = 5 # assign 5 to v"
      ],
      "metadata": {
        "id": "3XziaV6M8K86"
      },
      "execution_count": null,
      "outputs": []
    },
    {
      "cell_type": "code",
      "source": [
        "v = 5 # velocity in meters/second."
      ],
      "metadata": {
        "id": "vy1vAJu28LZK"
      },
      "execution_count": null,
      "outputs": []
    },
    {
      "cell_type": "markdown",
      "source": [
        "indentation"
      ],
      "metadata": {
        "id": "iFRaNM0xtW9z"
      }
    },
    {
      "cell_type": "code",
      "source": [
        "def rectangle_area(w, h):\n",
        "    area = w * h              # 1️⃣\n",
        "    return area               # 1️⃣\n",
        "\n",
        "def citizen(age):\n",
        "    if age > 60:              # 2️⃣\n",
        "        print(\"senior\")       # 2️⃣\n",
        "        print(\"50% discount\") # 2️⃣\n",
        "    else:                     # 2️⃣\n",
        "        print(\"young\")        # 2️⃣\n",
        "\n",
        "your_age = 28                 # 3️⃣\n",
        "citizen(your_age)             # 3️⃣"
      ],
      "metadata": {
        "colab": {
          "base_uri": "https://localhost:8080/"
        },
        "id": "Yg014HS5tWna",
        "outputId": "0e585389-77e9-433c-a6c8-a1443ff47335"
      },
      "execution_count": 18,
      "outputs": [
        {
          "output_type": "stream",
          "name": "stdout",
          "text": [
            "young\n"
          ]
        }
      ]
    },
    {
      "cell_type": "markdown",
      "source": [
        "Example of global vairable in python (1)"
      ],
      "metadata": {
        "id": "j4g8nwyiv2la"
      }
    },
    {
      "cell_type": "code",
      "source": [
        "VAT = .07 #<----This is the global\n",
        "\n",
        "def price_part(amount):\n",
        "    tax = amount * VAT / (1 + VAT)\n",
        "    price = amount - tax\n",
        "    return price, tax\n",
        "\n",
        "print(f\"VAT = {VAT}\")\n",
        "print(price_part(150))"
      ],
      "metadata": {
        "id": "evCnpL88v6EG"
      },
      "execution_count": null,
      "outputs": []
    },
    {
      "cell_type": "markdown",
      "source": [
        "Example of global vairable in python (2)"
      ],
      "metadata": {
        "id": "e3bW2utFwDsU"
      }
    },
    {
      "cell_type": "code",
      "source": [
        "VAT = .07  #<----This is the global\n",
        "member_discount = .15\n",
        "coffee_price = 50\n",
        "\n",
        "def access_global_var():\n",
        "    global VAT # add global keyword to use and revise VAT value in function\n",
        "    print(f\"inside access_global_var():  VAT = {VAT}\")\n",
        "    print(f\"inside access_global_var():  member_discount = {member_discount}\")\n",
        "\n",
        "print(f\"outside access_global_var(): VAT = {VAT}\")\n",
        "print(f\"outside access_global_var(): member_discount = {member_discount}\")\n",
        "access_global_var()\n",
        "print(f\"coffee_price (before discount) = {coffee_price}\")\n",
        "print(f\"coffee_price (after membership discount) = {coffee_price * (1 - member_discount)}\")\n"
      ],
      "metadata": {
        "id": "Gck1Z9mNwNmn"
      },
      "execution_count": null,
      "outputs": []
    },
    {
      "cell_type": "markdown",
      "source": [
        "Example of Local vairable in python (1)"
      ],
      "metadata": {
        "id": "owKdEvBWwioP"
      }
    },
    {
      "cell_type": "code",
      "source": [
        "def drink():\n",
        "    price = 20\n",
        "    print(f\"price in drink() = {price}\")\n",
        "\n",
        "def burger():\n",
        "    price = 69\n",
        "    print(f\"price in burger() = {price}\")\n",
        "\n",
        "drink()\n",
        "burger()"
      ],
      "metadata": {
        "id": "2qsq1nMxwDWr"
      },
      "execution_count": null,
      "outputs": []
    },
    {
      "cell_type": "markdown",
      "source": [
        "# Exercise"
      ],
      "metadata": {
        "id": "D49qEy-H8g36"
      }
    },
    {
      "cell_type": "markdown",
      "source": [
        "1. Assign some values to variables x, y, and z. Then, insert x, y, and z inside a print() function to print out the values of those variables."
      ],
      "metadata": {
        "id": "EZsBIciiV_nc"
      }
    },
    {
      "cell_type": "code",
      "source": [
        "x = 10\n",
        "y = \"Hello\"\n",
        "z = 3.14\n",
        "\n",
        "print(\"x =\", x)\n",
        "print(\"y =\", y)\n",
        "print(\"z =\", z)"
      ],
      "metadata": {
        "id": "YXXPLhuv27s-",
        "colab": {
          "base_uri": "https://localhost:8080/"
        },
        "outputId": "3cde57da-1466-42e3-9556-baf16662e376"
      },
      "execution_count": 19,
      "outputs": [
        {
          "output_type": "stream",
          "name": "stdout",
          "text": [
            "x = 10\n",
            "y = Hello\n",
            "z = 3.14\n"
          ]
        }
      ]
    },
    {
      "cell_type": "markdown",
      "source": [
        "2. Create three variables **mood**, **strength**, and **rank** and assign a string to **mood**, a float to **strength**, and an integer to **rank**. **The values you assign can be anything as long as they are of the correct type.**"
      ],
      "metadata": {
        "id": "kLBU3f0AbsQ5"
      }
    },
    {
      "cell_type": "code",
      "source": [
        "mood = \"Happy\"\n",
        "strength = 8.5\n",
        "rank = 3"
      ],
      "metadata": {
        "id": "pARNWK682-3l"
      },
      "execution_count": 20,
      "outputs": []
    },
    {
      "cell_type": "markdown",
      "source": [
        "3. แก้ไขโปรแกรมต่อไปนี้"
      ],
      "metadata": {
        "id": "xmnwYq5M4CUb"
      }
    },
    {
      "cell_type": "code",
      "source": [
        "x = input()\n",
        "y = float(x)**2 + 7\n",
        "print(y)"
      ],
      "metadata": {
        "id": "NCuGtIjb36o4",
        "colab": {
          "base_uri": "https://localhost:8080/"
        },
        "outputId": "40e45b48-a421-426f-b3e6-77c7eb1e89c1"
      },
      "execution_count": 23,
      "outputs": [
        {
          "output_type": "stream",
          "name": "stdout",
          "text": [
            "3\n",
            "16.0\n"
          ]
        }
      ]
    },
    {
      "cell_type": "markdown",
      "source": [
        "4. Assign a number to each of the variables x, y, and z. Calculate the sum of x, y, and z in the s variable. Print out the value of s."
      ],
      "metadata": {
        "id": "y4LmKBcZcE6s"
      }
    },
    {
      "cell_type": "code",
      "source": [
        "x = 5\n",
        "y = 10\n",
        "z = 15\n",
        "\n",
        "s = x + y + z\n",
        "\n",
        "print(s)\n"
      ],
      "metadata": {
        "id": "Oi1H_l62vx5d",
        "colab": {
          "base_uri": "https://localhost:8080/"
        },
        "outputId": "f1eed089-322e-41e5-a46e-741736957669"
      },
      "execution_count": 24,
      "outputs": [
        {
          "output_type": "stream",
          "name": "stdout",
          "text": [
            "30\n"
          ]
        }
      ]
    },
    {
      "cell_type": "markdown",
      "source": [
        "5. จงเขียนโปรแกรมบวกเลขสองจำนวน โดยการรับค่าตัวเลขใดๆ สองจำนวน"
      ],
      "metadata": {
        "id": "oh6qPxiQmPSS"
      }
    },
    {
      "cell_type": "code",
      "source": [
        "num1 = input(\"Enter num1\\n\")\n",
        "num2 = input(\"Enter num2\\n\")\n",
        "\n",
        "print(f\"result = {float(num1) + float(num2)}\")"
      ],
      "metadata": {
        "id": "DS6G3KaHvzPt",
        "colab": {
          "base_uri": "https://localhost:8080/"
        },
        "outputId": "4835d122-07aa-4987-d09e-9fde9bc5678a"
      },
      "execution_count": 27,
      "outputs": [
        {
          "output_type": "stream",
          "name": "stdout",
          "text": [
            "Enter num1\n",
            "2\n",
            "Enter num2\n",
            "2\n",
            "result = 4.0\n"
          ]
        }
      ]
    },
    {
      "cell_type": "markdown",
      "source": [
        "6. โปรแกรมแก้ปัญหาการแบ่งจำนวนนักเรียนสามห้อง แต่ละห้องมีจำนวนดังนี้ 32, 45 และ 51 คน ให้มีจำนวนกลุ่มของนักเรียนที่เท่ากัน และกรณีที่เหลือนักเรียนที่ไม่สามารถจับกลุ่มได้ของแต่ละกลุ่ม โดยใช้ฟังค์ชัน เครื่องหมาย % และ //\n",
        "\n",
        "\n",
        "1.   โปรแกรมสามารถ**รับค่า**จำนวนนักเรียนของ สามห้องได้\n",
        "2.   โปรแกรมสามารถ**รับค่า**จำนวนกลุ่มที่ต้องการ\n",
        "3.   โปรแกรม**แสดงค่า**จำนวนนักเรียนแต่ละกลุ่มของแต่ละห้อง\n",
        "4.   โปรแกรม**แสดงค่า**นักเรียนที่ไม่มีกลุ่มของแต่ละห้องได้\n",
        "\n",
        "\n",
        "\n",
        "\n",
        "\n",
        "\n",
        "\n",
        "\n",
        "\n",
        "\n",
        "\n"
      ],
      "metadata": {
        "id": "Nb37xzqBl9Iq"
      }
    },
    {
      "cell_type": "code",
      "source": [
        "def divide_students(room1, room2, room3, num_groups):\n",
        "    students = [room1, room2, room3]\n",
        "    groups_per_room = []\n",
        "    remainder_per_room = []\n",
        "    for num_students in students:\n",
        "        groups = num_students // num_groups\n",
        "        remainder = num_students % num_groups\n",
        "        groups_per_room.append(groups)\n",
        "        remainder_per_room.append(remainder)\n",
        "\n",
        "    return groups_per_room, remainder_per_room\n",
        "\n",
        "room1_students = int(input(\"จำนวนนักเรียนในห้องที่ 1: \"))\n",
        "room2_students = int(input(\"จำนวนนักเรียนในห้องที่ 2: \"))\n",
        "room3_students = int(input(\"จำนวนนักเรียนในห้องที่ 3: \"))\n",
        "\n",
        "num_groups = int(input(\"จำนวนกลุ่มที่ต้องการ: \"))\n",
        "\n",
        "groups, remainder = divide_students(room1_students, room2_students, room3_students, num_groups)\n",
        "\n",
        "print(f\"นักเรียนในห้องที่ 1 ได้แบ่งเป็นกลุ่ม {groups[0]} กลุ่ม และมี {remainder[0]} คนที่ไม่สามารถจับกลุ่มได้\")\n",
        "print(f\"นักเรียนในห้องที่ 2 ได้แบ่งเป็นกลุ่ม {groups[1]} กลุ่ม และมี {remainder[1]} คนที่ไม่สามารถจับกลุ่มได้\")\n",
        "print(f\"นักเรียนในห้องที่ 3 ได้แบ่งเป็นกลุ่ม {groups[2]} กลุ่ม และมี {remainder[2]} คนที่ไม่สามารถจับกลุ่มได้\")"
      ],
      "metadata": {
        "id": "aYh9ia5Jvz6m",
        "colab": {
          "base_uri": "https://localhost:8080/"
        },
        "outputId": "64264e0e-0f14-44ea-fbcf-1eb010bda53e"
      },
      "execution_count": 28,
      "outputs": [
        {
          "output_type": "stream",
          "name": "stdout",
          "text": [
            "จำนวนนักเรียนในห้องที่ 1: 2\n",
            "จำนวนนักเรียนในห้องที่ 2: 3\n",
            "จำนวนนักเรียนในห้องที่ 3: 3\n",
            "จำนวนกลุ่มที่ต้องการ: 2\n",
            "นักเรียนในห้องที่ 1 ได้แบ่งเป็นกลุ่ม 1 กลุ่ม และมี 0 คนที่ไม่สามารถจับกลุ่มได้\n",
            "นักเรียนในห้องที่ 2 ได้แบ่งเป็นกลุ่ม 1 กลุ่ม และมี 1 คนที่ไม่สามารถจับกลุ่มได้\n",
            "นักเรียนในห้องที่ 3 ได้แบ่งเป็นกลุ่ม 1 กลุ่ม และมี 1 คนที่ไม่สามารถจับกลุ่มได้\n"
          ]
        }
      ]
    },
    {
      "cell_type": "markdown",
      "source": [
        "7.ISBN (International Standard Book Number) เป็นตัวเลขจำวน 10-13 หลักที่ใช้ระบุหนังสือแต่ละเล่ม โจทย์ข้อนี้\n",
        "สนใจเฉพาะ ISBN ที่มี 10 หลัก การตรวจสอบความถูกต้องของ ISBN จะใช้ตัวเลขหลักสุดท้ายเป็น check digit ในการตรวจสอบ\n",
        "ความถูกต้องของตัวเลขอื่น ๆ โดยวิธีที่ใช้ตรวจสอบคือ\n",
        "![Screenshot 2566-07-11 at 05.22.25.png](data:image/png;base64,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)\n",
        "ตัวอย่างเช่น หากตัวเลข 9 หลักแรกคือ 020131452 จะได้ว่า\n",
        "10*0 + 9*2 + 8*0 + 7*1 + 6*3 + 5*1 + 4*4 + 3*5 + 2*2 + n10 = 83 + n10 ต้องหารด้วย 11 ลงตัว\n",
        "จะได้ว่า n10 ต้องมีค่าเท่ากับ 5 เพื่อให้ผลรวมเป็น 88 ซึ่งหารด้วย 11 ลงตัว และได้ ISBN คือ 0201314525\n",
        "หากกำหนดตัวเลขหลักที่ 1-9 มาให้ จงคำนวณหา ISBN ทั้งสิบหลัก"
      ],
      "metadata": {
        "id": "PnJTJ0td4_2u"
      }
    },
    {
      "cell_type": "code",
      "source": [
        "isbn_9_digits = input(\"ใส่หมายเลข ISBN 9 หลัก: \")\n",
        "\n",
        "if len(isbn_9_digits) != 9 or not isbn_9_digits.isdigit():\n",
        "    print(\"ใส่หมายเลข ISBN ที่มี 9 หลักเท่านั้น\")\n",
        "else:\n",
        "    total_sum = 0\n",
        "    for i in range(9):\n",
        "        total_sum += int(isbn_9_digits[i]) * (10 - i)\n",
        "\n",
        "    check_digit = (11 - (total_sum % 11)) % 11\n",
        "\n",
        "    if check_digit == 10:\n",
        "        check_digit = 'X'\n",
        "\n",
        "    print(\"หมายเลข ISBN ที่สมบูรณ์คือ:\", isbn_9_digits + str(check_digit))\n"
      ],
      "metadata": {
        "colab": {
          "base_uri": "https://localhost:8080/"
        },
        "id": "cXK-fkMYQQ0J",
        "outputId": "37278313-c1f0-4f75-e532-6e3abb56701d"
      },
      "execution_count": 33,
      "outputs": [
        {
          "output_type": "stream",
          "name": "stdout",
          "text": [
            "ใส่หมายเลข ISBN 9 หลัก: 232341356\n",
            "หมายเลข ISBN ที่สมบูรณ์คือ: 2323413562\n"
          ]
        }
      ]
    }
  ]
}